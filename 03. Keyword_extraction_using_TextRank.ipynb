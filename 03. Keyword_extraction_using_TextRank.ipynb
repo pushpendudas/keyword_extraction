{
 "cells": [
  {
   "cell_type": "code",
   "execution_count": 9,
   "metadata": {
    "scrolled": true
   },
   "outputs": [],
   "source": [
    "# pip install trafilatura\n",
    "# pip install summa"
   ]
  },
  {
   "cell_type": "code",
   "execution_count": 10,
   "metadata": {},
   "outputs": [],
   "source": [
    "import trafilatura\n",
    "from summa import keywords\n"
   ]
  },
  {
   "cell_type": "markdown",
   "metadata": {},
   "source": [
    "##### Download wiki dataset"
   ]
  },
  {
   "cell_type": "code",
   "execution_count": 5,
   "metadata": {},
   "outputs": [],
   "source": [
    "array_links = [\n",
    "    \"https://en.wikipedia.org/wiki/Coronavirus_disease_2019\", \n",
    "    \"https://en.wikipedia.org/wiki/Recession\", \n",
    "    \"https://en.wikipedia.org/wiki/Vienna\", \n",
    "    \"https://en.wikipedia.org/wiki/Machine_learning\", \n",
    "    \"https://en.wikipedia.org/wiki/Graph_database\"\n",
    "]\n",
    "\n",
    "array_text = []\n",
    "for l in array_links:\n",
    "    html = trafilatura.fetch_url(l)\n",
    "    text = trafilatura.extract(html)\n",
    "    text_clean = text.replace(\"\\n\", \" \").replace(\"\\'\", \"\")\n",
    "    array_text.append(text_clean[0:5000])"
   ]
  },
  {
   "cell_type": "markdown",
   "metadata": {},
   "source": [
    "##### Keyword Generation"
   ]
  },
  {
   "cell_type": "code",
   "execution_count": 8,
   "metadata": {},
   "outputs": [
    {
     "name": "stdout",
     "output_type": "stream",
     "text": [
      "Keywords of article 1 \n",
      " ['symptoms', 'covid', 'respiratory', 'syndrome', 'disease', 'diseases']\n",
      "Keywords of article 2 \n",
      " ['recession', 'recessions', 'economics', 'economic', 'shapes', 'shape', 'governments', 'government', 'policies', 'policy']\n",
      "Keywords of article 3 \n",
      " ['vienna', 'viennas', 'city', 'cities', 'citys', 'meaning', 'german', 'mi']\n",
      "Keywords of article 4 \n",
      " ['learns', 'learn', 'machine learning', 'algorithms', 'algorithm', 'machines', 'data', 'tasks', 'task']\n",
      "Keywords of article 5 \n",
      " ['graphs', 'graph database', 'databases', 'model', 'models', 'data', 'relates', 'relational', 'relation']\n"
     ]
    }
   ],
   "source": [
    "for j in range(len(array_text)):\n",
    "    print(\"Keywords of article\", str(j+1), \"\\n\", (keywords.keywords(array_text[j], words=5)).split(\"\\n\"))\n",
    "    "
   ]
  },
  {
   "cell_type": "code",
   "execution_count": null,
   "metadata": {},
   "outputs": [],
   "source": []
  }
 ],
 "metadata": {
  "kernelspec": {
   "display_name": "Python 3",
   "language": "python",
   "name": "python3"
  },
  "language_info": {
   "codemirror_mode": {
    "name": "ipython",
    "version": 3
   },
   "file_extension": ".py",
   "mimetype": "text/x-python",
   "name": "python",
   "nbconvert_exporter": "python",
   "pygments_lexer": "ipython3",
   "version": "3.8.5"
  }
 },
 "nbformat": 4,
 "nbformat_minor": 4
}
