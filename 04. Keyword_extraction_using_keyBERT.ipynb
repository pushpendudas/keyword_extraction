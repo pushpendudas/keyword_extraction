{
 "cells": [
  {
   "cell_type": "code",
   "execution_count": 9,
   "metadata": {
    "scrolled": true
   },
   "outputs": [],
   "source": [
    "# pip install trafilatura\n",
    "# pip install keyBERT"
   ]
  },
  {
   "cell_type": "code",
   "execution_count": 1,
   "metadata": {},
   "outputs": [
    {
     "data": {
      "application/vnd.jupyter.widget-view+json": {
       "model_id": "53997fc5e3524e12ae5fbdcde85216d9",
       "version_major": 2,
       "version_minor": 0
      },
      "text/plain": [
       "HBox(children=(HTML(value=''), FloatProgress(value=0.0, max=244733649.0), HTML(value='')))"
      ]
     },
     "metadata": {},
     "output_type": "display_data"
    },
    {
     "name": "stdout",
     "output_type": "stream",
     "text": [
      "\n"
     ]
    }
   ],
   "source": [
    "import trafilatura\n",
    "from keybert import KeyBERT\n",
    "\n",
    "kw_extractor = KeyBERT('distilbert-base-nli-mean-tokens')\n"
   ]
  },
  {
   "cell_type": "markdown",
   "metadata": {},
   "source": [
    "##### Download wiki dataset"
   ]
  },
  {
   "cell_type": "code",
   "execution_count": 2,
   "metadata": {},
   "outputs": [],
   "source": [
    "array_links = [\n",
    "    \"https://en.wikipedia.org/wiki/Coronavirus_disease_2019\", \n",
    "    \"https://en.wikipedia.org/wiki/Recession\", \n",
    "    \"https://en.wikipedia.org/wiki/Vienna\", \n",
    "    \"https://en.wikipedia.org/wiki/Machine_learning\", \n",
    "    \"https://en.wikipedia.org/wiki/Graph_database\"\n",
    "]\n",
    "\n",
    "array_text = []\n",
    "for l in array_links:\n",
    "    html = trafilatura.fetch_url(l)\n",
    "    text = trafilatura.extract(html)\n",
    "    text_clean = text.replace(\"\\n\", \" \").replace(\"\\'\", \"\")\n",
    "    array_text.append(text_clean[0:5000])"
   ]
  },
  {
   "cell_type": "markdown",
   "metadata": {},
   "source": [
    "##### Keyword Generation N-Grams by changing keyphrase_ngram_range"
   ]
  },
  {
   "cell_type": "code",
   "execution_count": 13,
   "metadata": {},
   "outputs": [
    {
     "name": "stdout",
     "output_type": "stream",
     "text": [
      "Keywords of article 1 \n",
      " [('coronavirus disease', 0.6148), ('covid coronavirus', 0.614), ('19 coronavirus', 0.579), ('coronavirus pronunciation', 0.5782), ('virus coronavirus', 0.5676)]\n",
      "Keywords of article 2 \n",
      " [('economic recession', 0.7498), ('economics recession', 0.7433), ('imbalanced recession', 0.7045), ('worsening recession', 0.7001), ('recession decline', 0.6884)]\n",
      "Keywords of article 3 \n",
      " [('2015 vienna', 0.6029), ('bratislava vienna', 0.5616), ('vienna worlds', 0.5594), ('24 vienna', 0.5523), ('century vienna', 0.5391)]\n",
      "Keywords of article 4 \n",
      " [('learning algorithms', 0.5737), ('algorithms practice', 0.5494), ('computers learning', 0.5484), ('teach computers', 0.5163), ('machine learning', 0.5153)]\n",
      "Keywords of article 5 \n",
      " [('graph databases', 0.6118), ('databases graph', 0.5968), ('graph database', 0.5957), ('graph query', 0.5821), ('graph theory', 0.5803)]\n"
     ]
    }
   ],
   "source": [
    "for j in range(len(array_text)):\n",
    "    keywords = kw_extractor.extract_keywords(array_text[j], stop_words='english', keyphrase_ngram_range=(1,2))\n",
    "    print(\"Keywords of article\", str(j+1), \"\\n\", keywords)\n"
   ]
  },
  {
   "cell_type": "code",
   "execution_count": null,
   "metadata": {},
   "outputs": [],
   "source": []
  }
 ],
 "metadata": {
  "kernelspec": {
   "display_name": "Python 3",
   "language": "python",
   "name": "python3"
  },
  "language_info": {
   "codemirror_mode": {
    "name": "ipython",
    "version": 3
   },
   "file_extension": ".py",
   "mimetype": "text/x-python",
   "name": "python",
   "nbconvert_exporter": "python",
   "pygments_lexer": "ipython3",
   "version": "3.8.5"
  }
 },
 "nbformat": 4,
 "nbformat_minor": 4
}
